{
 "cells": [
  {
   "cell_type": "code",
   "execution_count": 2,
   "id": "0f1ca228-ef53-4114-ab2b-82592ed0c26c",
   "metadata": {},
   "outputs": [
    {
     "name": "stdout",
     "output_type": "stream",
     "text": [
      "Extracting EDF parameters from D:\\final p\\sleep-edf-database-expanded-1.0.0\\sleep-cassette\\SC4001E0-PSG.edf...\n",
      "EDF file detected\n",
      "Setting channel info structure...\n",
      "Creating raw.info structure...\n",
      "Reading 0 ... 7949999  =      0.000 ... 79499.990 secs...\n"
     ]
    },
    {
     "name": "stderr",
     "output_type": "stream",
     "text": [
      "C:\\Users\\DELL\\AppData\\Local\\Temp\\ipykernel_27600\\1303605216.py:7: RuntimeWarning: Channels contain different highpass filters. Highest filter setting will be stored.\n",
      "  raw_data = mne.io.read_raw_edf(file_path, preload=True)\n",
      "C:\\Users\\DELL\\AppData\\Local\\Temp\\ipykernel_27600\\1303605216.py:7: RuntimeWarning: Channels contain different lowpass filters. Lowest filter setting will be stored.\n",
      "  raw_data = mne.io.read_raw_edf(file_path, preload=True)\n",
      "C:\\Users\\DELL\\AppData\\Local\\Temp\\ipykernel_27600\\1303605216.py:7: RuntimeWarning: Highpass cutoff frequency 16.0 is greater than lowpass cutoff frequency 0.7, setting values to 0 and Nyquist.\n",
      "  raw_data = mne.io.read_raw_edf(file_path, preload=True)\n"
     ]
    },
    {
     "name": "stdout",
     "output_type": "stream",
     "text": [
      "<Info | 8 non-empty values\n",
      " bads: []\n",
      " ch_names: EEG Fpz-Cz, EEG Pz-Oz, EOG horizontal, Resp oro-nasal, EMG ...\n",
      " chs: 7 EEG\n",
      " custom_ref_applied: False\n",
      " highpass: 0.0 Hz\n",
      " lowpass: 50.0 Hz\n",
      " meas_date: 1989-04-24 16:13:00 UTC\n",
      " nchan: 7\n",
      " projs: []\n",
      " sfreq: 100.0 Hz\n",
      " subject_info: 4 items (dict)\n",
      ">\n",
      "EEG channel type selected for re-referencing\n",
      "Adding average EEG reference projection.\n",
      "1 projection items deactivated\n",
      "Average reference projection was added, but has not been applied yet. Use the apply_proj method to apply it.\n",
      "Filtering raw data in 1 contiguous segment\n",
      "Setting up band-pass filter from 0.5 - 50 Hz\n",
      "\n",
      "FIR filter parameters\n",
      "---------------------\n",
      "Designing a one-pass, zero-phase, non-causal bandpass filter:\n",
      "- Windowed time-domain design (firwin) method\n",
      "- Hamming window with 0.0194 passband ripple and 53 dB stopband attenuation\n",
      "- Lower passband edge: 0.50\n",
      "- Lower transition bandwidth: 0.50 Hz (-6 dB cutoff frequency: 0.25 Hz)\n",
      "- Upper passband edge: 50.00 Hz\n",
      "- Upper transition bandwidth: 12.50 Hz (-6 dB cutoff frequency: 56.25 Hz)\n",
      "- Filter length: 1321 samples (6.605 s)\n",
      "\n",
      "Writing D:\\final p\\processed_data.fif\n"
     ]
    },
    {
     "name": "stderr",
     "output_type": "stream",
     "text": [
      "C:\\Users\\DELL\\AppData\\Local\\Temp\\ipykernel_27600\\1303605216.py:29: RuntimeWarning: This filename (D:\\final p\\processed_data.fif) does not conform to MNE naming conventions. All raw files should end with raw.fif, raw_sss.fif, raw_tsss.fif, _meg.fif, _eeg.fif, _ieeg.fif, raw.fif.gz, raw_sss.fif.gz, raw_tsss.fif.gz, _meg.fif.gz, _eeg.fif.gz or _ieeg.fif.gz\n",
      "  raw_data.save(processed_file_path, overwrite=True)\n"
     ]
    },
    {
     "name": "stdout",
     "output_type": "stream",
     "text": [
      "Closing D:\\final p\\processed_data.fif\n",
      "[done]\n"
     ]
    }
   ],
   "source": [
    "#Preprocessing\n",
    "import numpy as np\n",
    "import mne\n",
    "\n",
    "# Load your EEG data\n",
    "file_path = r'D:\\final p\\sleep-edf-database-expanded-1.0.0\\sleep-cassette\\SC4001E0-PSG.edf'\n",
    "raw_data = mne.io.read_raw_edf(file_path, preload=True)\n",
    "\n",
    "# Display basic info about the raw data\n",
    "print(raw_data.info)\n",
    "\n",
    "# Set the EEG reference (average reference is common)\n",
    "raw_data.set_eeg_reference('average', projection=True)\n",
    "\n",
    "# Resample to increase the Nyquist frequency (e.g., 200 Hz)\n",
    "raw_data.resample(sfreq=200)\n",
    "\n",
    "# Apply a band-pass filter to remove noise (e.g., 0.5-50 Hz)\n",
    "raw_data.filter(l_freq=0.5, h_freq=50)\n",
    "\n",
    "# Downsample back to 100 Hz if needed\n",
    "raw_data.resample(sfreq=100)\n",
    "\n",
    "# Further preprocessing steps (if needed)\n",
    "# For example, you could extract epochs, perform ICA, etc.\n",
    "\n",
    "# Save the processed data if required\n",
    "processed_file_path = r'D:\\final p\\processed_data.fif'\n",
    "raw_data.save(processed_file_path, overwrite=True)\n",
    "\n"
   ]
  },
  {
   "cell_type": "code",
   "execution_count": 5,
   "id": "c621838e-b8c1-457a-9dce-045be5d73eca",
   "metadata": {},
   "outputs": [
    {
     "name": "stdout",
     "output_type": "stream",
     "text": [
      "Collecting hurst\n",
      "  Downloading hurst-0.0.5-py3-none-any.whl.metadata (3.6 kB)\n",
      "Requirement already satisfied: pandas>=0.18 in c:\\users\\dell\\appdata\\local\\programs\\python\\python312\\lib\\site-packages (from hurst) (2.2.2)\n",
      "Requirement already satisfied: numpy>=1.10 in c:\\users\\dell\\appdata\\local\\programs\\python\\python312\\lib\\site-packages (from hurst) (1.26.4)\n",
      "Requirement already satisfied: python-dateutil>=2.8.2 in c:\\users\\dell\\appdata\\local\\programs\\python\\python312\\lib\\site-packages (from pandas>=0.18->hurst) (2.9.0.post0)\n",
      "Requirement already satisfied: pytz>=2020.1 in c:\\users\\dell\\appdata\\local\\programs\\python\\python312\\lib\\site-packages (from pandas>=0.18->hurst) (2024.1)\n",
      "Requirement already satisfied: tzdata>=2022.7 in c:\\users\\dell\\appdata\\local\\programs\\python\\python312\\lib\\site-packages (from pandas>=0.18->hurst) (2024.1)\n",
      "Requirement already satisfied: six>=1.5 in c:\\users\\dell\\appdata\\local\\programs\\python\\python312\\lib\\site-packages (from python-dateutil>=2.8.2->pandas>=0.18->hurst) (1.16.0)\n",
      "Downloading hurst-0.0.5-py3-none-any.whl (5.9 kB)\n",
      "Installing collected packages: hurst\n",
      "Successfully installed hurst-0.0.5\n",
      "Note: you may need to restart the kernel to use updated packages.\n"
     ]
    }
   ],
   "source": [
    "pip install hurst"
   ]
  },
  {
   "cell_type": "code",
   "execution_count": 6,
   "id": "c7d6216d-e71c-4dc2-9536-3a0c41a047d4",
   "metadata": {},
   "outputs": [
    {
     "name": "stdout",
     "output_type": "stream",
     "text": [
      "Extracting EDF parameters from D:\\final p\\sleep-edf-database-expanded-1.0.0\\sleep-cassette\\SC4001E0-PSG.edf...\n",
      "EDF file detected\n",
      "Setting channel info structure...\n",
      "Creating raw.info structure...\n",
      "Reading 0 ... 7949999  =      0.000 ... 79499.990 secs...\n"
     ]
    },
    {
     "name": "stderr",
     "output_type": "stream",
     "text": [
      "C:\\Users\\DELL\\AppData\\Local\\Temp\\ipykernel_27600\\4227072333.py:11: RuntimeWarning: Channels contain different highpass filters. Highest filter setting will be stored.\n",
      "  raw_data = mne.io.read_raw_edf(file_path, preload=True)\n",
      "C:\\Users\\DELL\\AppData\\Local\\Temp\\ipykernel_27600\\4227072333.py:11: RuntimeWarning: Channels contain different lowpass filters. Lowest filter setting will be stored.\n",
      "  raw_data = mne.io.read_raw_edf(file_path, preload=True)\n",
      "C:\\Users\\DELL\\AppData\\Local\\Temp\\ipykernel_27600\\4227072333.py:11: RuntimeWarning: Highpass cutoff frequency 16.0 is greater than lowpass cutoff frequency 0.7, setting values to 0 and Nyquist.\n",
      "  raw_data = mne.io.read_raw_edf(file_path, preload=True)\n"
     ]
    },
    {
     "name": "stdout",
     "output_type": "stream",
     "text": [
      "EEG channel type selected for re-referencing\n",
      "Adding average EEG reference projection.\n",
      "1 projection items deactivated\n",
      "Average reference projection was added, but has not been applied yet. Use the apply_proj method to apply it.\n",
      "Filtering raw data in 1 contiguous segment\n",
      "Setting up band-pass filter from 0.5 - 50 Hz\n",
      "\n",
      "FIR filter parameters\n",
      "---------------------\n",
      "Designing a one-pass, zero-phase, non-causal bandpass filter:\n",
      "- Windowed time-domain design (firwin) method\n",
      "- Hamming window with 0.0194 passband ripple and 53 dB stopband attenuation\n",
      "- Lower passband edge: 0.50\n",
      "- Lower transition bandwidth: 0.50 Hz (-6 dB cutoff frequency: 0.25 Hz)\n",
      "- Upper passband edge: 49.50 Hz\n",
      "- Upper transition bandwidth: 0.50 Hz (-6 dB cutoff frequency: 49.75 Hz)\n",
      "- Filter length: 661 samples (6.610 s)\n",
      "\n",
      "Sampling frequency of the instance is already 100.0, returning unmodified.\n"
     ]
    },
    {
     "name": "stderr",
     "output_type": "stream",
     "text": [
      "100%|███████████████████████████████████████████████████████████████████████████████████| 7/7 [14:41<00:00, 125.98s/it]"
     ]
    },
    {
     "name": "stdout",
     "output_type": "stream",
     "text": [
      "Feature extraction completed and saved successfully.\n"
     ]
    },
    {
     "name": "stderr",
     "output_type": "stream",
     "text": [
      "\n"
     ]
    }
   ],
   "source": [
    "#Feature Extraction\n",
    "import numpy as np\n",
    "import mne\n",
    "from hurst import compute_Hc\n",
    "from tqdm import tqdm\n",
    "from scipy.signal import welch\n",
    "from scipy.stats import entropy\n",
    "\n",
    "# Load your EEG data\n",
    "file_path = r'D:\\final p\\sleep-edf-database-expanded-1.0.0\\sleep-cassette\\SC4001E0-PSG.edf'\n",
    "raw_data = mne.io.read_raw_edf(file_path, preload=True)\n",
    "\n",
    "# Set the EEG reference (average reference is common)\n",
    "raw_data.set_eeg_reference('average', projection=True)\n",
    "\n",
    "# Apply a band-pass filter to remove noise (e.g., 0.5-49.5 Hz)\n",
    "raw_data.filter(l_freq=0.5, h_freq=49.5)\n",
    "\n",
    "# Resample data if necessary (e.g., downsample to 100 Hz)\n",
    "raw_data.resample(sfreq=100)\n",
    "\n",
    "# Extract the data from the raw object\n",
    "eeg_data = raw_data.get_data()\n",
    "\n",
    "# Define frequency bands (delta, theta, alpha, beta)\n",
    "band_list = [(0.5, 4), (4, 7), (7, 12), (12, 30)]\n",
    "Fs = 100  # Sampling frequency\n",
    "\n",
    "# Functions for feature calculation\n",
    "def compute_psd(signal, band, Fs):\n",
    "    f, Pxx = welch(signal, Fs)\n",
    "    band_power = np.trapz(Pxx[(f >= band[0]) & (f <= band[1])], f[(f >= band[0]) & (f <= band[1])])\n",
    "    return band_power\n",
    "\n",
    "def petrosian_fd(signal):\n",
    "    N = len(signal)\n",
    "    diff = np.diff(signal)\n",
    "    N_delta = np.sum(diff[:-1] * diff[1:] < 0)\n",
    "    return np.log10(N) / (np.log10(N) + np.log10(N / (N + 0.4 * N_delta)))\n",
    "\n",
    "def hjorth_params(signal):\n",
    "    first_diff = np.diff(signal)\n",
    "    second_diff = np.diff(first_diff)\n",
    "    var_zero = np.var(signal)\n",
    "    var_d1 = np.var(first_diff)\n",
    "    var_d2 = np.var(second_diff)\n",
    "    activity = var_zero\n",
    "    mobility = np.sqrt(var_d1 / var_zero)\n",
    "    complexity = np.sqrt(var_d2 / var_d1) / mobility\n",
    "    return activity, mobility, complexity\n",
    "\n",
    "def detrended_fluctuation(signal):\n",
    "    N = len(signal)\n",
    "    L = np.floor(np.logspace(1, np.log10(N / 4), num=20)).astype(int)\n",
    "    F = np.zeros(len(L))\n",
    "    for i, l in enumerate(L):\n",
    "        rms = []\n",
    "        for j in range(0, N, l):\n",
    "            if j + l < N:\n",
    "                c = np.polyfit(range(l), signal[j:j+l], 1)\n",
    "                fit = np.polyval(c, range(l))\n",
    "                rms.append(np.sqrt(np.mean((signal[j:j+l] - fit) ** 2)))\n",
    "        F[i] = np.sqrt(np.mean(np.array(rms) ** 2))\n",
    "    alpha = np.polyfit(np.log10(L), np.log10(F), 1)[0]\n",
    "    return alpha\n",
    "\n",
    "# Initialize lists to store features\n",
    "PSD = []\n",
    "PFD = []\n",
    "hjorths = []\n",
    "hursts = []\n",
    "DFA = []\n",
    "\n",
    "# Loop over each EEG channel\n",
    "for channel_data in tqdm(eeg_data):\n",
    "    # Power Spectral Density (PSD) for each band\n",
    "    psd_values = [compute_psd(channel_data, band, Fs) for band in band_list]\n",
    "    PSD.append(psd_values)\n",
    "\n",
    "    # Petrosian Fractal Dimension (PFD)\n",
    "    pfd_value = petrosian_fd(channel_data)\n",
    "    PFD.append(pfd_value)\n",
    "\n",
    "    # Hjorth Parameters (Activity, Mobility, Complexity)\n",
    "    hjorth_activity, hjorth_mobility, hjorth_complexity = hjorth_params(channel_data)\n",
    "    hjorths.append([hjorth_activity, hjorth_mobility, hjorth_complexity])\n",
    "\n",
    "    # Hurst Exponent\n",
    "    hurst_value, _, _ = compute_Hc(channel_data, kind='change', min_window=100)\n",
    "    hursts.append(hurst_value)\n",
    "\n",
    "    # Detrended Fluctuation Analysis (DFA)\n",
    "    dfa_value = detrended_fluctuation(channel_data)\n",
    "    DFA.append(dfa_value)\n",
    "\n",
    "# Convert feature lists to numpy arrays for further processing or saving\n",
    "PSD = np.array(PSD)\n",
    "PFD = np.array(PFD)\n",
    "hjorths = np.array(hjorths)\n",
    "hursts = np.array(hursts)\n",
    "DFA = np.array(DFA)\n",
    "\n",
    "# Save the features for later use\n",
    "np.save(r'D:\\final p\\PSD.npy', PSD)\n",
    "np.save(r'D:\\final p\\PFD.npy', PFD)\n",
    "np.save(r'D:\\final p\\hjorths.npy', hjorths)\n",
    "np.save(r'D:\\final p\\hursts.npy', hursts)\n",
    "np.save(r'D:\\final p\\DFA.npy', DFA)\n",
    "\n",
    "print(\"Feature extraction completed and saved successfully.\")\n",
    "\n"
   ]
  },
  {
   "cell_type": "code",
   "execution_count": 10,
   "id": "8c0aea7a-2368-4d83-b645-667ebfad5faa",
   "metadata": {},
   "outputs": [
    {
     "name": "stdout",
     "output_type": "stream",
     "text": [
      "Requirement already satisfied: pyeeg in c:\\users\\dell\\appdata\\local\\programs\\python\\python312\\lib\\site-packages (0.0.2)\n",
      "Requirement already satisfied: websocket in c:\\users\\dell\\appdata\\local\\programs\\python\\python312\\lib\\site-packages (from pyeeg) (0.2.1)\n",
      "Requirement already satisfied: websocket-client in c:\\users\\dell\\appdata\\local\\programs\\python\\python312\\lib\\site-packages (from pyeeg) (1.8.0)\n",
      "Requirement already satisfied: gevent in c:\\users\\dell\\appdata\\local\\programs\\python\\python312\\lib\\site-packages (from websocket->pyeeg) (24.2.1)\n",
      "Requirement already satisfied: greenlet in c:\\users\\dell\\appdata\\local\\programs\\python\\python312\\lib\\site-packages (from websocket->pyeeg) (3.0.3)\n",
      "Requirement already satisfied: zope.event in c:\\users\\dell\\appdata\\local\\programs\\python\\python312\\lib\\site-packages (from gevent->websocket->pyeeg) (5.0)\n",
      "Requirement already satisfied: zope.interface in c:\\users\\dell\\appdata\\local\\programs\\python\\python312\\lib\\site-packages (from gevent->websocket->pyeeg) (6.4.post2)\n",
      "Requirement already satisfied: cffi>=1.12.2 in c:\\users\\dell\\appdata\\local\\programs\\python\\python312\\lib\\site-packages (from gevent->websocket->pyeeg) (1.16.0)\n",
      "Requirement already satisfied: pycparser in c:\\users\\dell\\appdata\\local\\programs\\python\\python312\\lib\\site-packages (from cffi>=1.12.2->gevent->websocket->pyeeg) (2.22)\n",
      "Requirement already satisfied: setuptools in c:\\users\\dell\\appdata\\local\\programs\\python\\python312\\lib\\site-packages (from zope.event->gevent->websocket->pyeeg) (70.2.0)\n",
      "Note: you may need to restart the kernel to use updated packages.\n"
     ]
    }
   ],
   "source": [
    "pip install pyeeg\n"
   ]
  },
  {
   "cell_type": "code",
   "execution_count": 12,
   "id": "ed9d041c-1c83-4ce4-9c60-c41703ae15d4",
   "metadata": {},
   "outputs": [],
   "source": [
    "import numpy as np\n",
    "import mne\n",
    "from hurst import compute_Hc\n",
    "from scipy.signal import welch\n",
    "from tqdm import tqdm\n",
    "from sklearn.preprocessing import StandardScaler\n",
    "from sklearn.decomposition import PCA\n",
    "from sklearn.model_selection import train_test_split\n",
    "from sklearn.ensemble import RandomForestClassifier\n",
    "from sklearn.metrics import classification_report, confusion_matrix\n"
   ]
  },
  {
   "cell_type": "code",
   "execution_count": 21,
   "id": "be15934c-7426-4566-b10e-d6f28e12acbb",
   "metadata": {},
   "outputs": [
    {
     "name": "stdout",
     "output_type": "stream",
     "text": [
      "Features shape: (7, 10)\n"
     ]
    }
   ],
   "source": [
    " #Load and Combine Features\n",
    "import numpy as np\n",
    "\n",
    "# Load the saved features\n",
    "PSD = np.load(r'D:\\final p\\PSD.npy')\n",
    "PFD = np.load(r'D:\\final p\\PFD.npy')\n",
    "hjorths = np.load(r'D:\\final p\\hjorths.npy')\n",
    "hursts = np.load(r'D:\\final p\\hursts.npy')\n",
    "DFA = np.load(r'D:\\final p\\DFA.npy')\n",
    "\n",
    "# Combine all features into a single feature matrix\n",
    "# Assuming you have the same number of samples for each feature\n",
    "features = np.concatenate([PSD, PFD[:, np.newaxis], hjorths, hursts[:, np.newaxis], DFA[:, np.newaxis]], axis=1)\n",
    "\n",
    "print(\"Features shape:\", features.shape)\n",
    "\n"
   ]
  },
  {
   "cell_type": "code",
   "execution_count": 23,
   "id": "092f95bb-5a44-4dfe-b9dc-65f47add328b",
   "metadata": {},
   "outputs": [
    {
     "name": "stdout",
     "output_type": "stream",
     "text": [
      "Synthetic labels created and saved.\n"
     ]
    }
   ],
   "source": [
    "#Load and Prepare Labels\n",
    "# Assuming the number of samples matches the number of feature vectors\n",
    "num_samples = features.shape[0]\n",
    "labels = np.random.randint(0, 2, size=num_samples)  # Binary labels (0 or 1)\n",
    "\n",
    "# Save the synthetic labels for future use\n",
    "np.save(r'D:\\final p\\labels.npy', labels)\n",
    "print(\"Synthetic labels created and saved.\")\n",
    "\n"
   ]
  },
  {
   "cell_type": "code",
   "execution_count": 24,
   "id": "e2cb84fc-ba2b-44aa-99c3-a112796deb8a",
   "metadata": {},
   "outputs": [
    {
     "name": "stdout",
     "output_type": "stream",
     "text": [
      "Training set shape: (4, 10)\n",
      "Testing set shape: (3, 10)\n"
     ]
    }
   ],
   "source": [
    "# Split Data into Training and Testing Sets\n",
    "from sklearn.model_selection import train_test_split\n",
    "\n",
    "# Split data into training and testing sets\n",
    "X_train, X_test, y_train, y_test = train_test_split(features, labels, test_size=0.3, random_state=42)\n",
    "\n",
    "print(\"Training set shape:\", X_train.shape)\n",
    "print(\"Testing set shape:\", X_test.shape)\n"
   ]
  },
  {
   "cell_type": "code",
   "execution_count": 27,
   "id": "31af3f29-ef49-49a4-ac0d-b450c11ffd41",
   "metadata": {},
   "outputs": [
    {
     "name": "stdout",
     "output_type": "stream",
     "text": [
      "Best parameters: {'max_depth': None, 'min_samples_split': 2, 'n_estimators': 50}\n"
     ]
    }
   ],
   "source": [
    "# Train a Machine Learning Model\n",
    "#Reduce the number of folds:\n",
    "from sklearn.model_selection import GridSearchCV\n",
    "\n",
    "param_grid = {\n",
    "    'n_estimators': [50, 100, 200],\n",
    "    'max_depth': [None, 10, 20],\n",
    "    'min_samples_split': [2, 5, 10]\n",
    "}\n",
    "\n",
    "# Use cv=2 or cv=3 based on the available number of samples\n",
    "grid_search = GridSearchCV(estimator=RandomForestClassifier(random_state=42), param_grid=param_grid, cv=2)\n",
    "grid_search.fit(X_train, y_train)\n",
    "\n",
    "print(\"Best parameters:\", grid_search.best_params_)\n",
    "\n",
    "\n",
    "\n"
   ]
  },
  {
   "cell_type": "code",
   "execution_count": 28,
   "id": "594f0e1d-a396-4acb-ba52-08b300dd42eb",
   "metadata": {},
   "outputs": [
    {
     "name": "stdout",
     "output_type": "stream",
     "text": [
      "Best parameters: {'max_depth': None, 'min_samples_split': 2, 'n_estimators': 200}\n"
     ]
    }
   ],
   "source": [
    "# Use Leave-One-Out Cross-Validation (LOO-CV):\n",
    "from sklearn.model_selection import LeaveOneOut\n",
    "\n",
    "loo = LeaveOneOut()\n",
    "grid_search = GridSearchCV(estimator=RandomForestClassifier(random_state=42), param_grid=param_grid, cv=loo)\n",
    "grid_search.fit(X_train, y_train)\n",
    "\n",
    "print(\"Best parameters:\", grid_search.best_params_)\n"
   ]
  },
  {
   "cell_type": "code",
   "execution_count": 29,
   "id": "ed0b6f16-2d1e-458a-b273-fd5bfccb5d11",
   "metadata": {},
   "outputs": [
    {
     "name": "stdout",
     "output_type": "stream",
     "text": [
      "Best parameters: {'max_depth': None, 'min_samples_split': 2, 'n_estimators': 50}\n"
     ]
    }
   ],
   "source": [
    "#Consider Stratified K-Fold Cross-Validation (for Imbalanced Datasets):\n",
    "from sklearn.model_selection import StratifiedKFold\n",
    "\n",
    "strat_kfold = StratifiedKFold(n_splits=2)\n",
    "grid_search = GridSearchCV(estimator=RandomForestClassifier(random_state=42), param_grid=param_grid, cv=strat_kfold)\n",
    "grid_search.fit(X_train, y_train)\n",
    "\n",
    "print(\"Best parameters:\", grid_search.best_params_)\n"
   ]
  },
  {
   "cell_type": "code",
   "execution_count": 30,
   "id": "4a66cf25-8996-4174-ba65-1442691f6452",
   "metadata": {},
   "outputs": [
    {
     "data": {
      "text/plain": [
       "['D:\\\\final p\\\\random_forest_model.pkl']"
      ]
     },
     "execution_count": 30,
     "metadata": {},
     "output_type": "execute_result"
    }
   ],
   "source": [
    "#Save the Trained Model\n",
    "import joblib\n",
    "\n",
    "# Save the trained model\n",
    "joblib.dump(model, r'D:\\final p\\random_forest_model.pkl')"
   ]
  },
  {
   "cell_type": "code",
   "execution_count": 32,
   "id": "2cbce738-ceea-44a4-99fc-8319337171ce",
   "metadata": {},
   "outputs": [
    {
     "name": "stdout",
     "output_type": "stream",
     "text": [
      "Predictions: [1]\n"
     ]
    }
   ],
   "source": [
    "#Load and Use the Model\n",
    "# Create dummy data for testing (with the same number of features as used in training)\n",
    "n_features = X_train.shape[1]  # Get the number of features from training data\n",
    "new_data = np.random.rand(1, n_features)  # Replace with actual data when available\n",
    "\n",
    "# Make predictions\n",
    "new_predictions = model.predict(new_data)\n",
    "\n",
    "print(\"Predictions:\", new_predictions)\n",
    "\n"
   ]
  },
  {
   "cell_type": "code",
   "execution_count": 34,
   "id": "3b59456a-483b-4599-a8ce-17cf27b38674",
   "metadata": {},
   "outputs": [
    {
     "name": "stdout",
     "output_type": "stream",
     "text": [
      "Predictions: [0]\n"
     ]
    }
   ],
   "source": [
    "import numpy as np\n",
    "import joblib\n",
    "\n",
    "# Load the model\n",
    "model = joblib.load(r'D:\\final p\\random_forest_model.pkl')\n",
    "\n",
    "# Create dummy data (ensure it has the correct number of features)\n",
    "n_features = X_train.shape[1]  # Number of features used in training\n",
    "new_data = np.random.rand(1, n_features)  # Create a random sample with the correct shape\n",
    "\n",
    "# Make predictions\n",
    "new_predictions = model.predict(new_data)\n",
    "\n",
    "print(\"Predictions:\", new_predictions)\n",
    "\n"
   ]
  },
  {
   "cell_type": "code",
   "execution_count": 37,
   "id": "c0063057-57fc-4bb9-91c8-8569f1d72f32",
   "metadata": {},
   "outputs": [
    {
     "name": "stdout",
     "output_type": "stream",
     "text": [
      "Training data features: Index(['# EEG Fpz-Cz', 'EEG Pz-Oz', 'EOG horizontal', 'Resp oro-nasal',\n",
      "       'EMG submental', 'Temp rectal', 'Event marker'],\n",
      "      dtype='object')\n"
     ]
    }
   ],
   "source": [
    "# Example of loading training data to inspect features (if available)\n",
    "X_train_df = pd.read_csv(r'sleep.csv')\n",
    "print(\"Training data features:\", X_train_df.columns)\n"
   ]
  },
  {
   "cell_type": "code",
   "execution_count": 38,
   "id": "ca008b17-d6ed-4efd-ab72-8926bc9ebce7",
   "metadata": {},
   "outputs": [
    {
     "name": "stdout",
     "output_type": "stream",
     "text": [
      "Predictions: [0 0 0 ... 0 0 0]\n"
     ]
    }
   ],
   "source": [
    "# Example of adding missing columns\n",
    "required_columns = ['feature_1', 'feature_2', 'feature_3', 'feature_4', 'feature_5', 'feature_6', 'feature_7', 'feature_8', 'feature_9', 'feature_10']\n",
    "for col in required_columns:\n",
    "    if col not in new_data_df.columns:\n",
    "        new_data_df[col] = 0  # Or another default value\n",
    "new_data_df = new_data_df[required_columns]  # Reorder columns to match training data\n",
    "\n",
    "# Convert DataFrame to numpy array\n",
    "new_data = new_data_df.values\n",
    "\n",
    "# Make predictions\n",
    "new_predictions = model.predict(new_data)\n",
    "print(\"Predictions:\", new_predictions)\n"
   ]
  },
  {
   "cell_type": "code",
   "execution_count": 41,
   "id": "e9b176fb-ccc3-4206-9161-d6f8a817e815",
   "metadata": {},
   "outputs": [
    {
     "name": "stdout",
     "output_type": "stream",
     "text": [
      "Extracting EDF parameters from D:\\final p\\sleep-edf-database-expanded-1.0.0\\sleep-cassette\\SC4002E0-PSG.edf...\n",
      "EDF file detected\n",
      "Setting channel info structure...\n",
      "Creating raw.info structure...\n",
      "Reading 0 ... 8489999  =      0.000 ... 84899.990 secs...\n"
     ]
    },
    {
     "name": "stderr",
     "output_type": "stream",
     "text": [
      "C:\\Users\\DELL\\AppData\\Local\\Temp\\ipykernel_27600\\399740890.py:14: RuntimeWarning: Channels contain different highpass filters. Highest filter setting will be stored.\n",
      "  raw_data = mne.io.read_raw_edf(file_path, preload=True)\n",
      "C:\\Users\\DELL\\AppData\\Local\\Temp\\ipykernel_27600\\399740890.py:14: RuntimeWarning: Channels contain different lowpass filters. Lowest filter setting will be stored.\n",
      "  raw_data = mne.io.read_raw_edf(file_path, preload=True)\n",
      "C:\\Users\\DELL\\AppData\\Local\\Temp\\ipykernel_27600\\399740890.py:14: RuntimeWarning: Highpass cutoff frequency 16.0 is greater than lowpass cutoff frequency 0.7, setting values to 0 and Nyquist.\n",
      "  raw_data = mne.io.read_raw_edf(file_path, preload=True)\n"
     ]
    },
    {
     "name": "stdout",
     "output_type": "stream",
     "text": [
      "<Info | 8 non-empty values\n",
      " bads: []\n",
      " ch_names: EEG Fpz-Cz, EEG Pz-Oz, EOG horizontal, Resp oro-nasal, EMG ...\n",
      " chs: 7 EEG\n",
      " custom_ref_applied: False\n",
      " highpass: 0.0 Hz\n",
      " lowpass: 50.0 Hz\n",
      " meas_date: 1989-04-25 14:50:00 UTC\n",
      " nchan: 7\n",
      " projs: []\n",
      " sfreq: 100.0 Hz\n",
      " subject_info: 4 items (dict)\n",
      ">\n",
      "EEG channel type selected for re-referencing\n",
      "Adding average EEG reference projection.\n",
      "1 projection items deactivated\n",
      "Average reference projection was added, but has not been applied yet. Use the apply_proj method to apply it.\n",
      "Filtering raw data in 1 contiguous segment\n",
      "Setting up band-pass filter from 0.5 - 50 Hz\n",
      "\n",
      "FIR filter parameters\n",
      "---------------------\n",
      "Designing a one-pass, zero-phase, non-causal bandpass filter:\n",
      "- Windowed time-domain design (firwin) method\n",
      "- Hamming window with 0.0194 passband ripple and 53 dB stopband attenuation\n",
      "- Lower passband edge: 0.50\n",
      "- Lower transition bandwidth: 0.50 Hz (-6 dB cutoff frequency: 0.25 Hz)\n",
      "- Upper passband edge: 50.00 Hz\n",
      "- Upper transition bandwidth: 12.50 Hz (-6 dB cutoff frequency: 56.25 Hz)\n",
      "- Filter length: 1321 samples (6.605 s)\n",
      "\n",
      "Writing D:\\final p\\processed_data1.fif\n"
     ]
    },
    {
     "name": "stderr",
     "output_type": "stream",
     "text": [
      "C:\\Users\\DELL\\AppData\\Local\\Temp\\ipykernel_27600\\399740890.py:38: RuntimeWarning: This filename (D:\\final p\\processed_data1.fif) does not conform to MNE naming conventions. All raw files should end with raw.fif, raw_sss.fif, raw_tsss.fif, _meg.fif, _eeg.fif, _ieeg.fif, raw.fif.gz, raw_sss.fif.gz, raw_tsss.fif.gz, _meg.fif.gz, _eeg.fif.gz or _ieeg.fif.gz\n",
      "  raw_data.save(output_path, overwrite=True)\n"
     ]
    },
    {
     "name": "stdout",
     "output_type": "stream",
     "text": [
      "Closing D:\\final p\\processed_data1.fif\n",
      "[done]\n",
      "Processed data saved to D:\\final p\\processed_data1.fif\n"
     ]
    }
   ],
   "source": [
    "import numpy as np\n",
    "import mne\n",
    "\n",
    "def preprocess_eeg(file_path, output_path, resample_freq=100):\n",
    "    \"\"\"\n",
    "    Preprocess EEG data from an EDF file and save the processed data.\n",
    "\n",
    "    Parameters:\n",
    "    - file_path: Path to the input EDF file.\n",
    "    - output_path: Path to save the processed data.\n",
    "    - resample_freq: Frequency to resample the data to. Default is 100 Hz.\n",
    "    \"\"\"\n",
    "    # Load the raw EEG data\n",
    "    raw_data = mne.io.read_raw_edf(file_path, preload=True)\n",
    "\n",
    "    # Display basic info about the raw data\n",
    "    print(raw_data.info)\n",
    "\n",
    "    # Set the EEG reference (average reference is common)\n",
    "    raw_data.set_eeg_reference('average', projection=True)\n",
    "\n",
    "    # Resample to increase the Nyquist frequency (e.g., 200 Hz)\n",
    "    raw_data.resample(sfreq=200)\n",
    "\n",
    "    # Apply a band-pass filter to remove noise (e.g., 0.5-50 Hz)\n",
    "    raw_data.filter(l_freq=0.5, h_freq=50)\n",
    "\n",
    "    # Downsample back to the desired frequency (e.g., 100 Hz)\n",
    "    raw_data.resample(sfreq=resample_freq)\n",
    "\n",
    "    # Further preprocessing steps (if needed)\n",
    "    # For example, you could extract epochs, perform ICA, etc.\n",
    "    # Example: Extracting epochs (if you need to)\n",
    "    # events, _ = mne.find_events(raw_data, stim_channel='STI 014')\n",
    "    # epochs = mne.Epochs(raw_data, events, event_id=None, tmin=-1, tmax=2, baseline=(None, 0))\n",
    "\n",
    "    # Save the processed data\n",
    "    raw_data.save(output_path, overwrite=True)\n",
    "    print(f\"Processed data saved to {output_path}\")\n",
    "\n",
    "# Example usage\n",
    "file_path = r'sleep-edf-database-expanded-1.0.0/sleep-cassette/SC4002E0-PSG.edf'\n",
    "output_path = r'D:\\final p\\processed_data1.fif'\n",
    "preprocess_eeg(file_path, output_path)\n"
   ]
  },
  {
   "cell_type": "code",
   "execution_count": 42,
   "id": "9360822e-7ff7-4349-8adb-bd9e5a30b735",
   "metadata": {},
   "outputs": [
    {
     "name": "stdout",
     "output_type": "stream",
     "text": [
      "Extracting EDF parameters from D:\\final p\\sleep-edf-database-expanded-1.0.0\\sleep-cassette\\SC4001E0-PSG.edf...\n",
      "EDF file detected\n",
      "Setting channel info structure...\n",
      "Creating raw.info structure...\n",
      "Reading 0 ... 7949999  =      0.000 ... 79499.990 secs...\n"
     ]
    },
    {
     "name": "stderr",
     "output_type": "stream",
     "text": [
      "C:\\Users\\DELL\\AppData\\Local\\Temp\\ipykernel_27600\\865401102.py:31: RuntimeWarning: Channels contain different highpass filters. Highest filter setting will be stored.\n",
      "  raw_data = mne.io.read_raw_edf(train_file_path, preload=True)\n",
      "C:\\Users\\DELL\\AppData\\Local\\Temp\\ipykernel_27600\\865401102.py:31: RuntimeWarning: Channels contain different lowpass filters. Lowest filter setting will be stored.\n",
      "  raw_data = mne.io.read_raw_edf(train_file_path, preload=True)\n",
      "C:\\Users\\DELL\\AppData\\Local\\Temp\\ipykernel_27600\\865401102.py:31: RuntimeWarning: Highpass cutoff frequency 16.0 is greater than lowpass cutoff frequency 0.7, setting values to 0 and Nyquist.\n",
      "  raw_data = mne.io.read_raw_edf(train_file_path, preload=True)\n"
     ]
    },
    {
     "name": "stdout",
     "output_type": "stream",
     "text": [
      "EEG channel type selected for re-referencing\n",
      "Adding average EEG reference projection.\n",
      "1 projection items deactivated\n",
      "Average reference projection was added, but has not been applied yet. Use the apply_proj method to apply it.\n",
      "Filtering raw data in 1 contiguous segment\n",
      "Setting up band-pass filter from 0.5 - 50 Hz\n",
      "\n",
      "FIR filter parameters\n",
      "---------------------\n",
      "Designing a one-pass, zero-phase, non-causal bandpass filter:\n",
      "- Windowed time-domain design (firwin) method\n",
      "- Hamming window with 0.0194 passband ripple and 53 dB stopband attenuation\n",
      "- Lower passband edge: 0.50\n",
      "- Lower transition bandwidth: 0.50 Hz (-6 dB cutoff frequency: 0.25 Hz)\n",
      "- Upper passband edge: 50.00 Hz\n",
      "- Upper transition bandwidth: 12.50 Hz (-6 dB cutoff frequency: 56.25 Hz)\n",
      "- Filter length: 1321 samples (6.605 s)\n",
      "\n",
      "Writing D:\\final p\\processed_training_data.fif\n"
     ]
    },
    {
     "name": "stderr",
     "output_type": "stream",
     "text": [
      "C:\\Users\\DELL\\AppData\\Local\\Temp\\ipykernel_27600\\865401102.py:33: RuntimeWarning: This filename (D:\\final p\\processed_training_data.fif) does not conform to MNE naming conventions. All raw files should end with raw.fif, raw_sss.fif, raw_tsss.fif, _meg.fif, _eeg.fif, _ieeg.fif, raw.fif.gz, raw_sss.fif.gz, raw_tsss.fif.gz, _meg.fif.gz, _eeg.fif.gz or _ieeg.fif.gz\n",
      "  processed_data.save(output_file_path, overwrite=True)\n"
     ]
    },
    {
     "name": "stdout",
     "output_type": "stream",
     "text": [
      "Closing D:\\final p\\processed_training_data.fif\n",
      "[done]\n",
      "Training data saved to D:\\final p\\processed_training_data.fif\n",
      "Extracting EDF parameters from D:\\final p\\sleep-edf-database-expanded-1.0.0\\sleep-cassette\\SC4011E0-PSG.edf...\n",
      "EDF file detected\n",
      "Setting channel info structure...\n",
      "Creating raw.info structure...\n",
      "Reading 0 ... 8405999  =      0.000 ... 84059.990 secs...\n"
     ]
    },
    {
     "name": "stderr",
     "output_type": "stream",
     "text": [
      "C:\\Users\\DELL\\AppData\\Local\\Temp\\ipykernel_27600\\865401102.py:38: RuntimeWarning: Channels contain different highpass filters. Highest filter setting will be stored.\n",
      "  raw_data = mne.io.read_raw_edf(new_data_file_path, preload=True)\n",
      "C:\\Users\\DELL\\AppData\\Local\\Temp\\ipykernel_27600\\865401102.py:38: RuntimeWarning: Channels contain different lowpass filters. Lowest filter setting will be stored.\n",
      "  raw_data = mne.io.read_raw_edf(new_data_file_path, preload=True)\n",
      "C:\\Users\\DELL\\AppData\\Local\\Temp\\ipykernel_27600\\865401102.py:38: RuntimeWarning: Highpass cutoff frequency 16.0 is greater than lowpass cutoff frequency 0.7, setting values to 0 and Nyquist.\n",
      "  raw_data = mne.io.read_raw_edf(new_data_file_path, preload=True)\n"
     ]
    },
    {
     "name": "stdout",
     "output_type": "stream",
     "text": [
      "EEG channel type selected for re-referencing\n",
      "Adding average EEG reference projection.\n",
      "1 projection items deactivated\n",
      "Average reference projection was added, but has not been applied yet. Use the apply_proj method to apply it.\n",
      "Filtering raw data in 1 contiguous segment\n",
      "Setting up band-pass filter from 0.5 - 50 Hz\n",
      "\n",
      "FIR filter parameters\n",
      "---------------------\n",
      "Designing a one-pass, zero-phase, non-causal bandpass filter:\n",
      "- Windowed time-domain design (firwin) method\n",
      "- Hamming window with 0.0194 passband ripple and 53 dB stopband attenuation\n",
      "- Lower passband edge: 0.50\n",
      "- Lower transition bandwidth: 0.50 Hz (-6 dB cutoff frequency: 0.25 Hz)\n",
      "- Upper passband edge: 50.00 Hz\n",
      "- Upper transition bandwidth: 12.50 Hz (-6 dB cutoff frequency: 56.25 Hz)\n",
      "- Filter length: 1321 samples (6.605 s)\n",
      "\n",
      "Writing D:\\final p\\processed_new_data.fif\n"
     ]
    },
    {
     "name": "stderr",
     "output_type": "stream",
     "text": [
      "C:\\Users\\DELL\\AppData\\Local\\Temp\\ipykernel_27600\\865401102.py:40: RuntimeWarning: This filename (D:\\final p\\processed_new_data.fif) does not conform to MNE naming conventions. All raw files should end with raw.fif, raw_sss.fif, raw_tsss.fif, _meg.fif, _eeg.fif, _ieeg.fif, raw.fif.gz, raw_sss.fif.gz, raw_tsss.fif.gz, _meg.fif.gz, _eeg.fif.gz or _ieeg.fif.gz\n",
      "  processed_data.save(output_file_path, overwrite=True)\n"
     ]
    },
    {
     "name": "stdout",
     "output_type": "stream",
     "text": [
      "Closing D:\\final p\\processed_new_data.fif\n",
      "[done]\n",
      "New data saved to D:\\final p\\processed_new_data.fif\n"
     ]
    }
   ],
   "source": [
    "import numpy as np\n",
    "import mne\n",
    "\n",
    "def preprocess_eeg(raw_data, resample_freq=100):\n",
    "    \"\"\"\n",
    "    Preprocess EEG data.\n",
    "\n",
    "    Parameters:\n",
    "    - raw_data: MNE Raw object with the EEG data.\n",
    "    - resample_freq: Frequency to resample the data to. Default is 100 Hz.\n",
    "\n",
    "    Returns:\n",
    "    - Processed MNE Raw object.\n",
    "    \"\"\"\n",
    "    # Set the EEG reference (average reference is common)\n",
    "    raw_data.set_eeg_reference('average', projection=True)\n",
    "\n",
    "    # Resample to increase the Nyquist frequency (e.g., 200 Hz)\n",
    "    raw_data.resample(sfreq=200)\n",
    "\n",
    "    # Apply a band-pass filter to remove noise (e.g., 0.5-50 Hz)\n",
    "    raw_data.filter(l_freq=0.5, h_freq=50)\n",
    "\n",
    "    # Downsample back to the desired frequency (e.g., 100 Hz)\n",
    "    raw_data.resample(sfreq=resample_freq)\n",
    "    \n",
    "    return raw_data\n",
    "\n",
    "# Process training data\n",
    "def process_training_data(train_file_path, output_file_path):\n",
    "    raw_data = mne.io.read_raw_edf(train_file_path, preload=True)\n",
    "    processed_data = preprocess_eeg(raw_data)\n",
    "    processed_data.save(output_file_path, overwrite=True)\n",
    "    print(f\"Training data saved to {output_file_path}\")\n",
    "\n",
    "# Process new data\n",
    "def process_new_data(new_data_file_path, output_file_path):\n",
    "    raw_data = mne.io.read_raw_edf(new_data_file_path, preload=True)\n",
    "    processed_data = preprocess_eeg(raw_data)\n",
    "    processed_data.save(output_file_path, overwrite=True)\n",
    "    print(f\"New data saved to {output_file_path}\")\n",
    "\n",
    "# Example usage\n",
    "train_file_path = r'D:\\final p\\sleep-edf-database-expanded-1.0.0\\sleep-cassette\\SC4001E0-PSG.edf'\n",
    "train_output_path = r'D:\\final p\\processed_training_data.fif'\n",
    "process_training_data(train_file_path, train_output_path)\n",
    "\n",
    "new_file_path = r'sleep-edf-database-expanded-1.0.0/sleep-cassette/SC4011E0-PSG.edf'\n",
    "new_output_path = r'D:\\final p\\processed_new_data.fif'\n",
    "process_new_data(new_file_path, new_output_path)\n"
   ]
  },
  {
   "cell_type": "code",
   "execution_count": null,
   "id": "40b3dec8-d41f-4811-873f-e2fb789f3036",
   "metadata": {},
   "outputs": [],
   "source": []
  }
 ],
 "metadata": {
  "kernelspec": {
   "display_name": "Python 3 (ipykernel)",
   "language": "python",
   "name": "python3"
  },
  "language_info": {
   "codemirror_mode": {
    "name": "ipython",
    "version": 3
   },
   "file_extension": ".py",
   "mimetype": "text/x-python",
   "name": "python",
   "nbconvert_exporter": "python",
   "pygments_lexer": "ipython3",
   "version": "3.12.4"
  }
 },
 "nbformat": 4,
 "nbformat_minor": 5
}
